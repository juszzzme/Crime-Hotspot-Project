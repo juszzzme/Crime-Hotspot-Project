{
 "cells": [
  {
   "cell_type": "markdown",
   "metadata": {},
   "source": [
    "# Geographic Data Exploration\n",
    "\n",
    "This notebook explores the geographic data available for the Crime Hotspot Project, including maps and population data."
   ]
  },
  {
   "cell_type": "code",
   "execution_count": null,
   "metadata": {},
   "outputs": [],
   "source": [
    "import os\n",
    "import json\n",
    "import pandas as pd\n",
    "import geopandas as gpd\n",
    "import matplotlib.pyplot as plt\n",
    "from pathlib import Path\n",
    "\n",
    "# Set up paths\n",
    "project_root = Path(os.getcwd()).parent.parent\n",
    "geo_data_dir = project_root / 'data' / 'raw' / 'geographic'\n",
    "maps_dir = geo_data_dir / 'maps'\n",
    "population_dir = geo_data_dir / 'population'\n",
    "\n",
    "# Display available files\n",
    "print(\"\\nMaps directory:\")\n",
    "for f in maps_dir.glob('*'):\n",
    "    print(f"- {f.name} ({f.stat().st_size / (1024*1024):.2f} MB)")\n",
    "\n",
    "print(\"\\nPopulation directory:\")\n",
    "for f in population_dir.glob('*'):\n",
    "    print(f"- {f.name} ({f.stat().st_size / 1024:.2f} KB)")"
   ]
  },
  {
   "cell_type": "markdown",
   "metadata": {},
   "source": [
    "## 1. Explore India States GeoJSON"
   ]
  },
  {
   "cell_type": "code",
   "execution_count": null,
   "metadata": {},
   "outputs": [],
   "source": [
    "# Load India states GeoJSON\n",
    "india_states_path = maps_dir / 'INDIA_STATES.geojson'\n",
    "if india_states_path.exists():\n",
    "    india_gdf = gpd.read_file(india_states_path)\n",
    "    print(f"Loaded {len(india_gdf)} states/UTs\n")\n",
    "    print(\"First few records:\")\n",
    "    display(india_gdf.head())\n",
    "    \n",
    "    # Plot\n",
    "    fig, ax = plt.subplots(figsize=(12, 12))\n",
    "    india_gdf.plot(ax=ax, edgecolor='black')\n",
    "    plt.title('India States/UTs')\n",
    "    plt.axis('off')\n",
    "    plt.show()"
   ]
  },
  {
   "cell_type": "markdown",
   "metadata": {},
   "source": [
    "## 2. Explore Population Data"
   ]
  },
  {
   "cell_type": "code",
   "execution_count": null,
   "metadata": {},
   "outputs": [],
   "source": [
    "# Load population data\n",
    "pop_data_path = population_dir / 'Population of India.csv'\n",
    "if pop_data_path.exists():\n",
    "    pop_df = pd.read_csv(pop_data_path)\n",
    "    print(\"Population data columns:\")\n",
    "    print(pop_df.columns.tolist())\n",
    "    print(\"\\nFirst few records:\")\n",
    "    display(pop_df.head())"
   ]
  },
  {
   "cell_type": "markdown",
   "metadata": {},
   "source": [
    "## 3. Merge Geographic and Population Data"
   ]
  },
  {
   "cell_type": "code",
   "execution_count": null,
   "metadata": {},
   "outputs": [],
   "source": [
    "# This is a placeholder for merging the data\n",
    "# The actual merging will depend on the structure of your data\n",
    "print(\"After exploring the data above, we'll merge it based on common identifiers.\")\n",
    "print(\"This might involve matching state names, codes, or other geographic identifiers.\")"
   ]
  },
  {
   "cell_type": "markdown",
   "metadata": {},
   "source": [
    "## 4. Next Steps\n",
    "\n",
    "Based on the data exploration, we can:\n",
    "1. Clean and preprocess the data as needed\n",
    "2. Create visualizations of crime data on the map\n",
    "3. Analyze spatial patterns and correlations with population density\n",
    "4. Prepare the data for the interactive map"
   ]
  }
 ],
 "metadata": {
  "kernelspec": {
   "display_name": "Python 3",
   "language": "python",
   "name": "python3"
  },
  "language_info": {
   "name": "python",
   "version": "3.8.0"
  }
 },
 "nbformat": 4,
 "nbformat_minor": 4
}
